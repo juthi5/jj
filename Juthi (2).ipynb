{
  "nbformat": 4,
  "nbformat_minor": 0,
  "metadata": {
    "colab": {
      "provenance": []
    },
    "kernelspec": {
      "name": "python3",
      "display_name": "Python 3"
    },
    "language_info": {
      "name": "python"
    }
  },
  "cells": [
    {
      "cell_type": "code",
      "source": [
        "avg"
      ],
      "metadata": {
        "id": "0xRUQMORK_Sa"
      },
      "execution_count": null,
      "outputs": []
    },
    {
      "cell_type": "code",
      "source": [
        "\n",
        "number1 = float(input(\"Enter the first number: \"))\n",
        "number2 = float(input(\"Enter the second number: \"))\n",
        "\n",
        "average = (number1 + number2) / 2\n",
        "\n",
        "print(\"The average of\", number1, \"and\", number2, \"is\", average)\n"
      ],
      "metadata": {
        "colab": {
          "base_uri": "https://localhost:8080/"
        },
        "id": "ymVlD9BrLDpc",
        "outputId": "554df48f-e08f-4a4c-a8ee-b635aea7b9f0"
      },
      "execution_count": null,
      "outputs": [
        {
          "output_type": "stream",
          "name": "stdout",
          "text": [
            "Enter the first number: 6\n",
            "Enter the second number: 6\n",
            "The average of 6.0 and 6.0 is 6.0\n"
          ]
        }
      ]
    },
    {
      "cell_type": "code",
      "source": [],
      "metadata": {
        "id": "vKalp_o4LCXF"
      },
      "execution_count": null,
      "outputs": []
    },
    {
      "cell_type": "markdown",
      "source": [],
      "metadata": {
        "id": "dqL0wW29K-ys"
      }
    },
    {
      "cell_type": "code",
      "source": [
        "def mul (num):\n",
        "  for i in range (1,11):\n",
        "    mul=num*i;\n",
        "    if (i==6):\n",
        "      continue;\n",
        "    print (num, \"x\" , i, \"=\", mul);\n",
        "    if (i==8):\n",
        "      break;\n",
        "\n",
        "num = int(input(\"Enter the first number: \"))\n",
        "print (\"Multiplication\")\n",
        "mul(num)\n",
        "\n"
      ],
      "metadata": {
        "colab": {
          "base_uri": "https://localhost:8080/"
        },
        "id": "N5cr9ErHOgHE",
        "outputId": "27edcf1c-c8dd-429c-be7b-8f7b185bb8ae"
      },
      "execution_count": null,
      "outputs": [
        {
          "output_type": "stream",
          "name": "stdout",
          "text": [
            "Enter the first number: 5\n",
            "Multiplication\n",
            "5 x 1 = 5\n",
            "5 x 2 = 10\n",
            "5 x 3 = 15\n",
            "5 x 4 = 20\n",
            "5 x 5 = 25\n",
            "5 x 7 = 35\n",
            "5 x 8 = 40\n"
          ]
        }
      ]
    },
    {
      "cell_type": "code",
      "execution_count": null,
      "metadata": {
        "id": "E56oC-MyK8Kw"
      },
      "outputs": [],
      "source": []
    },
    {
      "cell_type": "code",
      "source": [
        "def mul(num):\n",
        "  for i in range(1,11):\n",
        "    num=6;\n",
        "    c=6*i;\n",
        "\n",
        "    if i==6:\n",
        "      continue;\n",
        "    if i==9:\n",
        "      break;\n",
        "    print (num, \"x\" , i, \"=\", mul);\n",
        "    mul(num);"
      ],
      "metadata": {
        "id": "0Q3BPU3wQ7A9"
      },
      "execution_count": null,
      "outputs": []
    },
    {
      "cell_type": "code",
      "source": [
        "list1 = [1,2,3,4,5]\n",
        "sum=0\n",
        "for i in list1:\n",
        "  if i%2==0:\n",
        "    sum = sum+i\n",
        "print (f\"sum of even = {sum}\")"
      ],
      "metadata": {
        "colab": {
          "base_uri": "https://localhost:8080/"
        },
        "id": "-YirxrDATqB0",
        "outputId": "87935153-1d50-46c4-edee-6c2dc8047d54"
      },
      "execution_count": null,
      "outputs": [
        {
          "output_type": "stream",
          "name": "stdout",
          "text": [
            "sum of even = 6\n"
          ]
        }
      ]
    },
    {
      "cell_type": "code",
      "source": [
        "list1 = [1,2,3,4,5]\n",
        "even= 0\n",
        "odd= 0\n",
        "\n",
        "for i in list1:\n",
        "  if i % 2 == 0:\n",
        "    sum=sum+i\n",
        "    even+= 1\n",
        "  else:\n",
        "    odd+= 1\n",
        "\n",
        "\n",
        "\n",
        "print(f\"Even numbers: {even}\")\n",
        "print(f\"Odd numbers: {odd}\")\n"
      ],
      "metadata": {
        "colab": {
          "base_uri": "https://localhost:8080/"
        },
        "id": "FVCEQSZnVWs0",
        "outputId": "9c3b9064-7db5-4239-f7a9-8922b65e9296"
      },
      "execution_count": null,
      "outputs": [
        {
          "output_type": "stream",
          "name": "stdout",
          "text": [
            "Even numbers: 2\n",
            "Odd numbers: 3\n"
          ]
        }
      ]
    },
    {
      "cell_type": "code",
      "source": [
        "a = [1, 3, 5, 7, 4]\n",
        "\n",
        "\n",
        "length_of_list = len(a)\n",
        "print(\"Length:\", length_of_list)\n",
        "\n",
        "\n",
        "type_of_list = type(a)\n",
        "print(\"Type:\", type_of_list)\n",
        "\n",
        "\n",
        "element_in_neg2 = a[-2]\n",
        "print(\"index -2:\", element_in_neg2)\n",
        "\n",
        "\n",
        "element_in_2 = a[2]\n",
        "print(\"index 2:\", element_in_2)\n"
      ],
      "metadata": {
        "colab": {
          "base_uri": "https://localhost:8080/"
        },
        "id": "bZ17jc2f6ZiS",
        "outputId": "197ea7d3-925d-47b9-e677-654a189a3669"
      },
      "execution_count": null,
      "outputs": [
        {
          "output_type": "stream",
          "name": "stdout",
          "text": [
            "Length: 5\n",
            "Type: <class 'list'>\n",
            "index -2: 7\n",
            "index 2: 5\n"
          ]
        }
      ]
    },
    {
      "cell_type": "code",
      "source": [
        "a = [1, 3, 5, 7, 4]\n",
        "\n",
        "a[-3] = 50\n",
        "print(\"Updated list:\", a)\n",
        "\n",
        "slice_2_4 = a[2:4]\n",
        "slice_to_neg3 = a[:-3]\n",
        "slice_neg4_to_neg1 = a[-4:-1]\n",
        "\n",
        "print(\"a[2:4]:\", slice_2_4)\n",
        "print(\"a[:-3]:\", slice_to_neg3)\n",
        "print(\"a[-4:-1]:\", slice_neg4_to_neg1)\n",
        "\n",
        "\n",
        "a.append(100)\n",
        "a[2] = 200\n",
        "print(\"Updated list:\", a)\n",
        "\n",
        "a.pop()\n",
        "print (\"After remove\", a)\n",
        "a.pop(1)\n",
        "print (\"After delete\", a)\n",
        "\n",
        "\n"
      ],
      "metadata": {
        "colab": {
          "base_uri": "https://localhost:8080/"
        },
        "id": "bq2fqGoC_0rW",
        "outputId": "e340bd2a-0ac1-4d9e-cbf2-082e9839e794"
      },
      "execution_count": null,
      "outputs": [
        {
          "output_type": "stream",
          "name": "stdout",
          "text": [
            "Updated list: [1, 3, 50, 7, 4]\n",
            "a[2:4]: [50, 7]\n",
            "a[:-3]: [1, 3]\n",
            "a[-4:-1]: [3, 50, 7]\n",
            "Updated list: [1, 3, 200, 7, 4, 100]\n",
            "After remove [1, 3, 200, 7, 4]\n",
            "After delete [1, 200, 7, 4]\n"
          ]
        }
      ]
    },
    {
      "cell_type": "markdown",
      "source": [
        "set"
      ],
      "metadata": {
        "id": "xxYgFwGJIu4Q"
      }
    },
    {
      "cell_type": "code",
      "source": [],
      "metadata": {
        "id": "NhSbYlTCHe9R"
      },
      "execution_count": null,
      "outputs": []
    },
    {
      "cell_type": "code",
      "source": [
        "a = {1, 3, 5, 8, 3, 7}\n",
        "b = {0, False, 1, 5}\n",
        "\n",
        "\n",
        "print(\"Length'a':\", len(a))\n",
        "print(\"Length'b':\", len(b))\n",
        "print(\"Type'a':\", type(a))\n",
        "print(\"Type'b':\", type(b))\n",
        "\n",
        "a.add(10)\n",
        "print(\"Updated Set:\",a)\n",
        "\n",
        "a.remove(8)\n",
        "print (\"After Removed Set:\",a)\n",
        "\n",
        "union_ab = a | b\n",
        "intersection_ab = a & b\n",
        "difference_ab = a - b\n",
        "\n",
        "print(\"Union a and b:\", union_ab)\n",
        "print(\"Intersection a and b:\", intersection_ab)\n",
        "print(\"Difference (a - b):\", difference_ab)\n",
        "\n",
        "for element in a:\n",
        "    print(element)\n",
        "\n",
        "    if element == 5:\n",
        "\n",
        "       break\n",
        "\n",
        "\n",
        "\n",
        "\n",
        "list = [2,3,4]\n",
        "\n",
        "new_set = set(list)\n",
        "result = a.union(new_set)\n",
        "print(result)\n",
        "\n"
      ],
      "metadata": {
        "colab": {
          "base_uri": "https://localhost:8080/"
        },
        "id": "cRQH80S9IxJ5",
        "outputId": "54f5c5a7-c7a8-49d8-da1c-10602a53381d"
      },
      "execution_count": null,
      "outputs": [
        {
          "output_type": "stream",
          "name": "stdout",
          "text": [
            "Length'a': 5\n",
            "Length'b': 3\n",
            "Type'a': <class 'set'>\n",
            "Type'b': <class 'set'>\n",
            "Updated Set: {1, 3, 5, 7, 8, 10}\n",
            "After Removed Set: {1, 3, 5, 7, 10}\n",
            "Union a and b: {0, 1, 3, 5, 7, 10}\n",
            "Intersection a and b: {1, 5}\n",
            "Difference (a - b): {10, 3, 7}\n",
            "1\n",
            "3\n",
            "5\n",
            "{1, 2, 3, 4, 5, 7, 10}\n"
          ]
        }
      ]
    },
    {
      "cell_type": "code",
      "source": [
        "from collections.abc import MutableMapping\n",
        "Employee = {\n",
        "    \"name\": \"A\",\n",
        "    \"age\": 40,\n",
        "    \"type\": {\n",
        "        \"developer\": [\"ios\", \"android\"]\n",
        "    },\n",
        "    \"parmanent\": True,\n",
        "    \"Salary\": 3000,\n",
        "    100: (1, 2, 3),\n",
        "    4.5: {5, 6, True, 7, 1}\n",
        "}\n",
        "\n",
        "\n",
        "print(\"Length of Employee:\", len(Employee))\n",
        "print(\"Type of Employee :\", type(Employee))\n",
        "\n",
        "\n",
        "developer_types = Employee[\"type\"][\"developer\"]\n",
        "print(\"Developer types:\", developer_types)\n",
        "\n",
        "Employee[\"parmanent\"] = False\n",
        "\n",
        "print(\"After update:\", Employee)\n",
        "\n",
        "\n",
        "\n"
      ],
      "metadata": {
        "colab": {
          "base_uri": "https://localhost:8080/"
        },
        "id": "dWR3xP2NPUt8",
        "outputId": "7bea16b4-8f5f-4b8e-9d3b-c1f0e7cc1bca"
      },
      "execution_count": null,
      "outputs": [
        {
          "output_type": "stream",
          "name": "stdout",
          "text": [
            "Length of Employee: 7\n",
            "Type of Employee : <class 'dict'>\n",
            "Developer types: ['ios', 'android']\n",
            "After update: {'name': 'A', 'age': 40, 'type': {'developer': ['ios', 'android']}, 'parmanent': False, 'Salary': 3000, 100: (1, 2, 3), 4.5: {True, 5, 6, 7}}\n"
          ]
        }
      ]
    },
    {
      "cell_type": "code",
      "source": [
        "class Rectangle:\n",
        "    def __init__(self, length, width):\n",
        "        self.length = length\n",
        "        self.width = width\n",
        "\n",
        "    def area(self):\n",
        "        return self.length * self.width\n",
        "\n",
        "    def perimeter(self):\n",
        "        return 2 * (self.length + self.width)\n",
        "\n",
        "\n",
        "rect = Rectangle(5, 3)\n",
        "print(\"Area:\", rect.area())\n",
        "print(\"Perimeter:\", rect.perimeter())\n"
      ],
      "metadata": {
        "colab": {
          "base_uri": "https://localhost:8080/"
        },
        "id": "gt2RGw0tTSmF",
        "outputId": "444da87a-19da-4f4c-c2f8-d555b7a7c894"
      },
      "execution_count": null,
      "outputs": [
        {
          "output_type": "stream",
          "name": "stdout",
          "text": [
            "Area: 15\n",
            "Perimeter: 16\n"
          ]
        }
      ]
    },
    {
      "cell_type": "code",
      "source": [
        "class Shape:\n",
        "    def __init__(self, name):\n",
        "        self.name = name\n",
        "    def get_name(self):\n",
        "        return self.name\n",
        "\n",
        "class Rectangle(Shape):\n",
        "    def __init__(self, length, width):\n",
        "        super().__init__(\"Rectangle\")\n",
        "        self.length = length\n",
        "        self.width = width\n",
        "\n",
        "    def area(self):\n",
        "        return self.length * self.width\n",
        "\n",
        "    def perimeter(self):\n",
        "        return 2 * (self.length + self.width)\n",
        "\n",
        "r1 = Rectangle(6, 5)\n",
        "print(\"Shape:\", r1.get_name())\n",
        "print(\"Area:\", r1.area())\n",
        "print(\"Perimeter:\", r1.perimeter())\n",
        "r2 = Rectangle(3, 4)\n",
        "print(\"Shape:\", r2.get_name())\n",
        "print(\"Area:\", r2.area())\n",
        "print(\"Perimeter:\", r2.perimeter())\n"
      ],
      "metadata": {
        "colab": {
          "base_uri": "https://localhost:8080/"
        },
        "id": "Hd4axrXSXxO9",
        "outputId": "446a4f74-e8c7-4fb5-8153-118630b8a76e"
      },
      "execution_count": null,
      "outputs": [
        {
          "output_type": "stream",
          "name": "stdout",
          "text": [
            "Shape: Rectangle\n",
            "Area: 30\n",
            "Perimeter: 22\n",
            "Shape: Rectangle\n",
            "Area: 12\n",
            "Perimeter: 14\n"
          ]
        }
      ]
    },
    {
      "cell_type": "code",
      "source": [
        "class Shape:\n",
        "    def __init__(self, name):\n",
        "        self._name = name\n",
        "\n",
        "    def __display_shape_type(self):\n",
        "        print(f\"Shape of type: {self._name}\")\n",
        "    def display(self):\n",
        "        self.__display_shape_type()\n",
        "\n",
        "\n",
        "class Rectangle(Shape):\n",
        "    def __init__(self, length, width):\n",
        "        super().__init__(\"Rectangle\")\n",
        "        self.__length = length\n",
        "        self.__width = width\n",
        "\n",
        "    def get_length(self):\n",
        "        return self.__length\n",
        "\n",
        "    def get_width(self):\n",
        "        return self.__width\n",
        "\n",
        "\n",
        "\n",
        "\n",
        "r1= Rectangle(5, 3)\n",
        "r1.display()\n",
        "print(\"length:\",r1.get_length())\n",
        "print(\"width:\",r1.get_width())"
      ],
      "metadata": {
        "colab": {
          "base_uri": "https://localhost:8080/"
        },
        "id": "wl2nLgJOfAo_",
        "outputId": "95afd6af-9184-4a40-973f-e9daccb0039e"
      },
      "execution_count": null,
      "outputs": [
        {
          "output_type": "stream",
          "name": "stdout",
          "text": [
            "Shape of type: Rectangle\n",
            "length: 5\n",
            "width: 3\n"
          ]
        }
      ]
    },
    {
      "cell_type": "code",
      "source": [
        "import numpy as np\n",
        "num= np.array ([2,3,4,5])\n",
        "print (num)\n",
        "type(num)"
      ],
      "metadata": {
        "colab": {
          "base_uri": "https://localhost:8080/"
        },
        "id": "6pNgY70zbSeV",
        "outputId": "14d25608-ecce-474f-a129-daff8cf30ead"
      },
      "execution_count": null,
      "outputs": [
        {
          "output_type": "stream",
          "name": "stdout",
          "text": [
            "[2 3 4 5]\n"
          ]
        },
        {
          "output_type": "execute_result",
          "data": {
            "text/plain": [
              "numpy.ndarray"
            ]
          },
          "metadata": {},
          "execution_count": 3
        }
      ]
    },
    {
      "cell_type": "code",
      "source": [
        "array_1D= np.array([2,4,5,6])\n",
        "array_1D"
      ],
      "metadata": {
        "colab": {
          "base_uri": "https://localhost:8080/"
        },
        "id": "xgxL-TX2hARK",
        "outputId": "6c20dc6d-419c-46dc-b7f1-6242e6627fa3"
      },
      "execution_count": null,
      "outputs": [
        {
          "output_type": "execute_result",
          "data": {
            "text/plain": [
              "array([2, 4, 5, 6])"
            ]
          },
          "metadata": {},
          "execution_count": 4
        }
      ]
    },
    {
      "cell_type": "code",
      "source": [
        "array_2D= np.array([[2,4,5,6],[2,4,5,6],[2,4,5,6]])\n",
        "array_2D"
      ],
      "metadata": {
        "colab": {
          "base_uri": "https://localhost:8080/"
        },
        "id": "4KWn1QXvhszK",
        "outputId": "53956760-9367-4093-bab2-c586ddb9003c"
      },
      "execution_count": null,
      "outputs": [
        {
          "output_type": "execute_result",
          "data": {
            "text/plain": [
              "array([[2, 4, 5, 6],\n",
              "       [2, 4, 5, 6],\n",
              "       [2, 4, 5, 6]])"
            ]
          },
          "metadata": {},
          "execution_count": 5
        }
      ]
    },
    {
      "cell_type": "code",
      "source": [
        "array_3D= np.array([[[2,4,5,6],[2,4,5,6],[2,4,5,6]]])\n",
        "array_3D"
      ],
      "metadata": {
        "colab": {
          "base_uri": "https://localhost:8080/"
        },
        "id": "Xrr_rYgniNdS",
        "outputId": "c13087b3-07f0-4c84-8f03-b5b6297c52e8"
      },
      "execution_count": null,
      "outputs": [
        {
          "output_type": "execute_result",
          "data": {
            "text/plain": [
              "array([[[2, 4, 5, 6],\n",
              "        [2, 4, 5, 6],\n",
              "        [2, 4, 5, 6]]])"
            ]
          },
          "metadata": {},
          "execution_count": 6
        }
      ]
    },
    {
      "cell_type": "code",
      "source": [
        "import numpy as np\n",
        "output = np.array([[x for x in range(2,21,2)],[x for x in range(1,21,2)]])\n",
        "output"
      ],
      "metadata": {
        "colab": {
          "base_uri": "https://localhost:8080/"
        },
        "id": "VA8yEavYimVC",
        "outputId": "72c66dd5-d404-402d-b10b-5ba62537dc3d"
      },
      "execution_count": null,
      "outputs": [
        {
          "output_type": "execute_result",
          "data": {
            "text/plain": [
              "array([[ 2,  4,  6,  8, 10, 12, 14, 16, 18, 20],\n",
              "       [ 1,  3,  5,  7,  9, 11, 13, 15, 17, 19]])"
            ]
          },
          "metadata": {},
          "execution_count": 8
        }
      ]
    },
    {
      "cell_type": "code",
      "source": [
        "ary=np.array([[1,2,3],[4,5,6]])\n",
        "print(ary)\n",
        "print(ary.dtype)\n",
        "print(ary.ndim)\n",
        "print(ary.shape)\n",
        "print(ary.size)\n",
        "print(ary.itemsize)"
      ],
      "metadata": {
        "colab": {
          "base_uri": "https://localhost:8080/"
        },
        "id": "Bq0PDjdRjAxS",
        "outputId": "e6290020-5db0-4711-b54d-4355725c7749"
      },
      "execution_count": null,
      "outputs": [
        {
          "output_type": "stream",
          "name": "stdout",
          "text": [
            "[[1 2 3]\n",
            " [4 5 6]]\n",
            "int64\n",
            "2\n",
            "(2, 3)\n",
            "6\n",
            "8\n"
          ]
        }
      ]
    },
    {
      "cell_type": "code",
      "source": [
        "ary= np.array([[1,2,3],[4,5,6]])\n",
        "print(ary)\n",
        "print(ary>5)\n",
        "print(ary<=5)\n",
        "print(ary==5)\n",
        "print(ary.max())\n",
        "print(ary.min())\n",
        "print(ary.sum())\n",
        "print(ary.std())\n",
        "print(ary.mean())\n",
        "print(ary.var())\n",
        "print(ary.mean(axis=0))\n",
        "print(ary.mean(axis=1))\n",
        "\n"
      ],
      "metadata": {
        "colab": {
          "base_uri": "https://localhost:8080/"
        },
        "id": "uiEfp0lolC1S",
        "outputId": "3ad14467-8f6a-471a-aacf-65d5fd0f0fc8"
      },
      "execution_count": null,
      "outputs": [
        {
          "output_type": "stream",
          "name": "stdout",
          "text": [
            "[[1 2 3]\n",
            " [4 5 6]]\n",
            "[[False False False]\n",
            " [False False  True]]\n",
            "[[ True  True  True]\n",
            " [ True  True False]]\n",
            "[[False False False]\n",
            " [False  True False]]\n",
            "6\n",
            "1\n",
            "21\n",
            "1.707825127659933\n",
            "3.5\n",
            "2.9166666666666665\n",
            "[2.5 3.5 4.5]\n",
            "[2. 5.]\n"
          ]
        }
      ]
    },
    {
      "cell_type": "code",
      "source": [
        "num1=np.arange(1,6)\n",
        "print(num1)\n",
        "num2=num1.view()\n",
        "print(num2)\n",
        "\n",
        "print(id(num1))\n",
        "print(id(num2))\n",
        "\n",
        "num2[1]*=5\n",
        "print(num1)\n",
        "print(num2)"
      ],
      "metadata": {
        "colab": {
          "base_uri": "https://localhost:8080/"
        },
        "id": "0usC67GpmoYR",
        "outputId": "46a84c9c-733f-48ae-eac5-bf9ae5dadf77"
      },
      "execution_count": null,
      "outputs": [
        {
          "output_type": "stream",
          "name": "stdout",
          "text": [
            "[1 2 3 4 5]\n",
            "[1 2 3 4 5]\n",
            "134842304069328\n",
            "134842304064624\n",
            "[ 1 10  3  4  5]\n",
            "[ 1 10  3  4  5]\n"
          ]
        }
      ]
    },
    {
      "cell_type": "code",
      "source": [
        "num1=np.arange(1,6)\n",
        "print(num1)\n",
        "num2=num1.copy()\n",
        "num2"
      ],
      "metadata": {
        "colab": {
          "base_uri": "https://localhost:8080/"
        },
        "id": "VB3z7pfZm4xw",
        "outputId": "bf35da6d-7d11-4041-ac81-b4993bda0b8e"
      },
      "execution_count": null,
      "outputs": [
        {
          "output_type": "stream",
          "name": "stdout",
          "text": [
            "[1 2 3 4 5]\n"
          ]
        },
        {
          "output_type": "execute_result",
          "data": {
            "text/plain": [
              "array([1, 2, 3, 4, 5])"
            ]
          },
          "metadata": {},
          "execution_count": 23
        }
      ]
    },
    {
      "cell_type": "code",
      "source": [
        "\n",
        "import numpy as np\n",
        "\n",
        "scr = np.array([85,90,78,92,88])\n",
        "\n",
        "scr = scr.astype('f')\n",
        "\n",
        "print(scr)\n",
        "print(scr.dtype)\n",
        "\n",
        "ascr=scr.copy()\n",
        "print(ascr)\n",
        "print(ascr+5)\n",
        "\n",
        "print(scr.dtype)\n",
        "print(scr.ndim)\n",
        "print(scr.shape)\n",
        "print(scr.size)\n",
        "print(scr.itemsize)\n",
        "print(np.sort(scr))\n",
        "\n",
        "x= np.where (scr > 85)\n",
        "print (x)\n",
        "\n",
        "print(scr.max())\n",
        "print(scr.min())\n",
        "print(scr.sum())\n",
        "print(scr.std())\n",
        "print(scr.mean())\n",
        "print(scr.var())\n",
        "print(scr.mean(axis=0))\n",
        "\n",
        "print(scr[::2])\n",
        "print(scr[-3:-1])\n",
        "print(scr[1:4])\n",
        "print(scr[::-1])\n",
        "\n",
        "\n",
        "\n",
        "\n",
        "\n",
        "\n"
      ],
      "metadata": {
        "colab": {
          "base_uri": "https://localhost:8080/"
        },
        "id": "eNCsIVWjp68Z",
        "outputId": "f4c09408-9ca9-4250-d877-eaba75e323de"
      },
      "execution_count": null,
      "outputs": [
        {
          "output_type": "stream",
          "name": "stdout",
          "text": [
            "[85. 90. 78. 92. 88.]\n",
            "float32\n",
            "[85. 90. 78. 92. 88.]\n",
            "[90. 95. 83. 97. 93.]\n",
            "float32\n",
            "1\n",
            "(5,)\n",
            "5\n",
            "4\n",
            "[78. 85. 88. 90. 92.]\n",
            "(array([1, 3, 4]),)\n",
            "92.0\n",
            "78.0\n",
            "433.0\n",
            "4.8826222\n",
            "86.6\n",
            "23.84\n",
            "86.6\n",
            "[85. 78. 88.]\n",
            "[78. 92.]\n",
            "[90. 78. 92.]\n",
            "[88. 92. 78. 90. 85.]\n"
          ]
        }
      ]
    },
    {
      "cell_type": "code",
      "source": [
        "import random\n",
        "\n",
        "class Character:\n",
        "    def __init__(self, name, health, attack_damage):\n",
        "        self.name = name\n",
        "        self.health = health\n",
        "        self.attack_damage = attack_damage\n",
        "\n",
        "    def get_name(self):\n",
        "        return self.name\n",
        "\n",
        "    def get_health(self):\n",
        "        return self.health\n",
        "\n",
        "    def take_damage(self, damage):\n",
        "        self.health -= damage\n",
        "\n",
        "    def attack(self):\n",
        "        return self.attack_damage\n",
        "\n",
        "    def is_alive(self):\n",
        "        return self.health > 0\n",
        "\n",
        "class Player(Character):\n",
        "    def __init__(self, name, health, attack_damage):\n",
        "        super().__init__(name, health, attack_damage)\n",
        "\n",
        "    def display_status(self):\n",
        "        print(f\"Player Status: {self.get_name()} | Health: {self.get_health()}\")\n",
        "\n",
        "class Monster(Character):\n",
        "    def __init__(self, name, health, attack_damage):\n",
        "        super().__init__(name, health, attack_damage)\n",
        "\n",
        "class Dungeon:\n",
        "    def __init__(self, player):\n",
        "        self.player = player\n",
        "        self.current_monster = self.generate_random_monster()\n",
        "\n",
        "    def generate_random_monster(self):\n",
        "        monster_names = [\"Goblin\", \"Orc\", \"Troll\", \"Dragon\"]\n",
        "        random_monster_name = random.choice(monster_names)\n",
        "        random_health = random.randint(50, 100)\n",
        "        random_attack_damage = random.randint(10, 20)\n",
        "        return Monster(random_monster_name, random_health, random_attack_damage)\n",
        "\n",
        "    def start(self):\n",
        "        print(\"Welcome to the Dungeon!\")\n",
        "        while self.player.is_alive():\n",
        "            print(\"\\n-----------------------------\")\n",
        "            self.player.display_status()\n",
        "            print(f\"A wild {self.current_monster.get_name()} appears!\")\n",
        "\n",
        "            # Player attacks the monster\n",
        "            player_damage = self.player.attack()\n",
        "            self.current_monster.take_damage(player_damage)\n",
        "            print(f\"You attack for {player_damage} damage.\")\n",
        "\n",
        "            # Check if the monster is defeated\n",
        "            if not self.current_monster.is_alive():\n",
        "                print(f\"You defeated the {self.current_monster.get_name()}!\")\n",
        "                self.current_monster = self.generate_random_monster()\n",
        "                continue\n",
        "\n",
        "            # Monster attacks the player\n",
        "            monster_damage = self.current_monster.attack()\n",
        "            self.player.take_damage(monster_damage)\n",
        "            print(f\"{self.current_monster.get_name()} attacks for {monster_damage} damage.\")\n",
        "\n",
        "            # Check if the player is defeated\n",
        "            if not self.player.is_alive():\n",
        "                print(f\"You were defeated by the {self.current_monster.get_name()}. Game over!\")\n",
        "                break\n",
        "\n",
        "if __name__ == \"__main__\":\n",
        "    player = Player(\"Adventurer\", 100, 15)\n",
        "    dungeon = Dungeon(player)\n",
        "    print(dungeon)"
      ],
      "metadata": {
        "colab": {
          "base_uri": "https://localhost:8080/"
        },
        "id": "Dz9hLv9_60VN",
        "outputId": "6bfd8590-6b84-459c-8a42-3ab0896d76b1"
      },
      "execution_count": 7,
      "outputs": [
        {
          "output_type": "stream",
          "name": "stdout",
          "text": [
            "<__main__.Dungeon object at 0x78adef2446d0>\n"
          ]
        }
      ]
    }
  ]
}